{
 "cells": [
  {
   "cell_type": "markdown",
   "metadata": {},
   "source": [
    "# Control de flujo"
   ]
  },
  {
   "cell_type": "markdown",
   "metadata": {},
   "source": [
    "## if"
   ]
  },
  {
   "cell_type": "code",
   "execution_count": 6,
   "metadata": {},
   "outputs": [
    {
     "name": "stdout",
     "output_type": "stream",
     "text": [
      "X es igual a 5\n"
     ]
    }
   ],
   "source": [
    "x = 5\n",
    "if x > 5:\n",
    "    print(\"X es mayor que 5\")\n",
    "elif x == 5:\n",
    "    print(\"X es igual a 5\")   \n",
    "else:\n",
    "    print(\"X es menor que 5\")"
   ]
  },
  {
   "cell_type": "code",
   "execution_count": 7,
   "metadata": {},
   "outputs": [
    {
     "name": "stdout",
     "output_type": "stream",
     "text": [
      "X es mayor que 10 o Y es mayor que 25\n"
     ]
    }
   ],
   "source": [
    "x = 15\n",
    "y = 20\n",
    "\n",
    "if x > 10 and y > 25:\n",
    "    print(\"X es mayor que 10 y Y es mayor que 25\")\n",
    "if x > 10 or y > 25:\n",
    "    print(\"X es mayor que 10 o Y es mayor que 25\")\n",
    "if not x > 10:\n",
    "    print(\"X no es mayor que 10\")\n"
   ]
  },
  {
   "cell_type": "code",
   "execution_count": 8,
   "metadata": {},
   "outputs": [
    {
     "name": "stdout",
     "output_type": "stream",
     "text": [
      "Tienes acceso: Eres miembro y mayor de 15\n"
     ]
    }
   ],
   "source": [
    "is_member = True\n",
    "age = 15\n",
    "\n",
    "if is_member:\n",
    "    if age >=15:\n",
    "        print(\"Tienes acceso: Eres miembro y mayor de 15\")\n",
    "    else:\n",
    "        print(\"No tienes aacceso: Eres miembro pero enor de 15 años\")\n",
    "else:\n",
    "    print (\"No eres miembro. No tienes acceso\")"
   ]
  },
  {
   "cell_type": "markdown",
   "metadata": {},
   "source": [
    "### Reto de clase: Juego piedra, papel o tijera"
   ]
  },
  {
   "cell_type": "code",
   "execution_count": null,
   "metadata": {},
   "outputs": [],
   "source": [
    "print('¡Juguemos! Piedra ✊, papel ✋ o tijera 🖖')\n",
    "print('¿Quién es el primero en jugar? ☝️')\n",
    "print('Escribe tu nombre: ', end=' ')\n",
    "player1 = input()\n",
    "print('¿Quién va en segundo? ✌️')\n",
    "print('¿Cómo te llamas?: ', end=' ')\n",
    "player2 = input()\n",
    "print('¡A jugar!')\n",
    "print('Deben escribir piedra ✊ o papel ✋ o tijera 🖖 según escojas')\n",
    "print(player1.capitalize(), end=' ')\n",
    "player1_chosen = input(', escoge: ')\n",
    "print(player2.capitalize(), end=' ')\n",
    "player2_chosen = input(', tu turno: ')\n",
    "allowed_values = ['piedra','papel','tijera']\n",
    "if player1_chosen in allowed_values and player2_chosen in allowed_values:\n",
    "    if player1_chosen == player2_chosen:\n",
    "        print('¡Empate! 🤝')\n",
    "    if (player1_chosen == 'tijera' and player2_chosen == 'papel') or (player2_chosen == 'tijera' and player1_chosen == 'papel'):\n",
    "        print('La tijera corta el papel ✂️')\n",
    "    if (player1_chosen == 'piedra' and player2_chosen == 'tijera') or (player2_chosen == 'piedra' and player1_chosen == 'tijera'):\n",
    "        print('La piedra 🌑 aplasta la tijera')\n",
    "    if (player1_chosen == 'papel' and player2_chosen == 'piedra') or (player2_chosen == 'papel' and player1_chosen == 'piedra'):\n",
    "        print('El papel envuelve la piedra 📰')\n",
    "else:\n",
    "    print('Se ha introducido una elección no válida. Recuerda esribir: Piedra ✊, papel ✋ o tijera 🖖')"
   ]
  },
  {
   "cell_type": "markdown",
   "metadata": {},
   "source": [
    "## for"
   ]
  },
  {
   "cell_type": "markdown",
   "metadata": {},
   "source": [
    "### range()\n",
    "\n",
    "Genera un iterable (lista) con los valores de inicio inclusivo y final exclusivo.\n",
    "\n",
    "* Si se pasa solo un valor como iniciara en 0 (inclusivo) y terminará en el valor pasado por parámetro menos 1.\n",
    "* Si se le pasa dos parámetros el primero sera el inicio (inclusivo) y el segundo sera el final menos 1\n",
    "* Si se le pasa un tercer parámetro sera el step o número de saltos."
   ]
  },
  {
   "cell_type": "code",
   "execution_count": 14,
   "metadata": {},
   "outputs": [
    {
     "name": "stdout",
     "output_type": "stream",
     "text": [
      "[1, 2, 3, 4, 5, 6, 7, 8, 9, 10]\n",
      "2\n",
      "3\n",
      "4\n",
      "5\n",
      "6\n",
      "7\n",
      "8\n",
      "9\n",
      "10\n",
      "11\n"
     ]
    }
   ],
   "source": [
    "numbers = list(range(1,11,1))\n",
    "print(numbers)\n",
    "for i in numbers:\n",
    "    print(i+1)"
   ]
  },
  {
   "cell_type": "code",
   "execution_count": null,
   "metadata": {},
   "outputs": [],
   "source": [
    "for i in range(80,100):\n",
    "    print(i)"
   ]
  },
  {
   "cell_type": "code",
   "execution_count": null,
   "metadata": {},
   "outputs": [],
   "source": [
    "fruits = [\"manzana\", \"pera\", \"uva\", \"naranja\", \"piña\",\"guanabana\"]\n",
    "for fruit in fruits:\n",
    "    print(fruit)\n",
    "    if fruit == \"naranja\":\n",
    "        print(\"🍊 encontrada\")"
   ]
  },
  {
   "cell_type": "markdown",
   "metadata": {},
   "source": [
    "## while"
   ]
  },
  {
   "cell_type": "markdown",
   "metadata": {},
   "source": [
    "### break"
   ]
  },
  {
   "cell_type": "code",
   "execution_count": 22,
   "metadata": {},
   "outputs": [
    {
     "name": "stdout",
     "output_type": "stream",
     "text": [
      "0\n",
      "1\n",
      "2\n"
     ]
    }
   ],
   "source": [
    "x=0\n",
    "while x <= 5:\n",
    "    if x==3:\n",
    "        break\n",
    "    print(x)\n",
    "    x+=1"
   ]
  },
  {
   "cell_type": "markdown",
   "metadata": {},
   "source": [
    "### continue"
   ]
  },
  {
   "cell_type": "code",
   "execution_count": 24,
   "metadata": {},
   "outputs": [
    {
     "name": "stdout",
     "output_type": "stream",
     "text": [
      "[1, 2, 3, 4, 5, 6, 7, 8, 9, 10]\n",
      "1\n",
      "2\n",
      "4\n",
      "5\n",
      "6\n",
      "7\n",
      "8\n",
      "9\n",
      "10\n"
     ]
    }
   ],
   "source": [
    "numbers = list(range(1,11,1))\n",
    "print(numbers)\n",
    "for i in numbers:\n",
    "    if i == 3:\n",
    "        continue\n",
    "    print(i)"
   ]
  },
  {
   "cell_type": "markdown",
   "metadata": {},
   "source": [
    "Aplicándole while al reto anterior para practicar 😅"
   ]
  },
  {
   "cell_type": "code",
   "execution_count": null,
   "metadata": {},
   "outputs": [],
   "source": [
    "cont = 1\n",
    "while cont:\n",
    "    print('¡Juguemos! Piedra ✊, papel ✋ o tijera 🖖')\n",
    "    print('¿Quién es el primero en jugar? ☝️')\n",
    "    print('Escribe tu nombre: ', end=' ')\n",
    "    player1 = input()\n",
    "    print('¿Quién va en segundo? ✌️')\n",
    "    print('¿Cómo te llamas?: ', end=' ')\n",
    "    player2 = input()\n",
    "    print('¡A jugar!')\n",
    "    print('Deben escribir piedra ✊ o papel ✋ o tijera 🖖 según escojas')\n",
    "    print(player1.capitalize(), end=' ')\n",
    "    player1_chosen = input(\" escoge: \")\n",
    "    print(player2.capitalize(), end=' ')\n",
    "    player2_chosen = input(' tu turno: ')\n",
    "    allowed_values = ['piedra','papel','tijera']\n",
    "    if player1_chosen in allowed_values and player2_chosen in allowed_values:\n",
    "        if player1_chosen == player2_chosen:\n",
    "            print('¡Empate! 🤝')\n",
    "        if (player1_chosen == 'tijera' and player2_chosen == 'papel') or (player2_chosen == 'tijera' and player1_chosen == 'papel'):\n",
    "            print('La tijera corta el papel ✂️\\n')\n",
    "        if (player1_chosen == 'piedra' and player2_chosen == 'tijera') or (player2_chosen == 'piedra' and player1_chosen == 'tijera'):\n",
    "            print('La piedra 🌑 aplasta la tijera ✂️\\n')\n",
    "        if (player1_chosen == 'papel' and player2_chosen == 'piedra') or (player2_chosen == 'papel' and player1_chosen == 'piedra'):\n",
    "            print('El papel envuelve la piedra 📰')\n",
    "    else:\n",
    "        print('Se ha introducido una elección no válida. Recuerda esribir: Piedra ✊, papel ✋ o tijera 🖖')\n",
    "    cont = input(\"Deseas jugar otra vez? \\n Teclea s para continuar o cualquier tecla para salir: \")\n",
    "    if cont != \"s\":\n",
    "        break"
   ]
  },
  {
   "cell_type": "markdown",
   "metadata": {},
   "source": [
    "## iter(), next()"
   ]
  },
  {
   "cell_type": "code",
   "execution_count": 28,
   "metadata": {},
   "outputs": [
    {
     "name": "stdout",
     "output_type": "stream",
     "text": [
      "1\n",
      "2\n",
      "3\n",
      "4\n"
     ]
    }
   ],
   "source": [
    "my_list=list(range(1,11)) # creando la lista\n",
    "my_iter=iter(my_list) # creando el objeto iterador\n",
    "print(next(my_iter))\n",
    "print(next(my_iter))\n",
    "print(next(my_iter))\n",
    "print(next(my_iter))"
   ]
  },
  {
   "cell_type": "code",
   "execution_count": 30,
   "metadata": {},
   "outputs": [
    {
     "name": "stdout",
     "output_type": "stream",
     "text": [
      "H\n",
      "o\n",
      "l\n",
      "a\n",
      " \n",
      "m\n",
      "u\n",
      "n\n",
      "d\n",
      "o\n"
     ]
    }
   ],
   "source": [
    "text = \"Hola mundo\" # creando la cadena\n",
    "iter_text = iter(text) # creando el objeto iterador \n",
    "for char in iter_text: \n",
    "    print(char)"
   ]
  },
  {
   "cell_type": "code",
   "execution_count": 31,
   "metadata": {},
   "outputs": [
    {
     "name": "stdout",
     "output_type": "stream",
     "text": [
      "1\n",
      "3\n",
      "5\n",
      "7\n",
      "9\n"
     ]
    }
   ],
   "source": [
    "# crear un iterador para los números impares \n",
    "limit = 10\n",
    "odd_iter = iter(range(1,limit+1,2))\n",
    "for num in odd_iter:\n",
    "    print(num)"
   ]
  },
  {
   "cell_type": "code",
   "execution_count": 32,
   "metadata": {},
   "outputs": [
    {
     "name": "stdout",
     "output_type": "stream",
     "text": [
      "0\n",
      "2\n",
      "4\n",
      "6\n",
      "8\n",
      "10\n"
     ]
    }
   ],
   "source": [
    "# crear un iterador para los números pares \n",
    "limit = 10\n",
    "odd_iter = iter(range(0,limit+1,2))\n",
    "for num in odd_iter:\n",
    "    print(num)"
   ]
  },
  {
   "cell_type": "markdown",
   "metadata": {},
   "source": [
    "## yield"
   ]
  },
  {
   "cell_type": "code",
   "execution_count": 34,
   "metadata": {},
   "outputs": [
    {
     "name": "stdout",
     "output_type": "stream",
     "text": [
      "1\n",
      "2\n",
      "3\n"
     ]
    }
   ],
   "source": [
    "def my_generator():\n",
    "    yield 1\n",
    "    yield 2\n",
    "    yield 3\n",
    "for value in my_generator():\n",
    "    print(value)"
   ]
  },
  {
   "cell_type": "markdown",
   "metadata": {},
   "source": [
    "Creación de la serie de Fibonacci"
   ]
  },
  {
   "cell_type": "code",
   "execution_count": null,
   "metadata": {},
   "outputs": [],
   "source": [
    "def fibonacci(limit):\n",
    "    a, b = 0, 1\n",
    "    while a < limit:\n",
    "        yield a\n",
    "        a, b = b, a+b\n",
    "for num in fibonacci(10):\n",
    "    print(num)"
   ]
  },
  {
   "cell_type": "markdown",
   "metadata": {},
   "source": [
    "### Reto de clase: Generar números pares e impares"
   ]
  },
  {
   "cell_type": "code",
   "execution_count": 38,
   "metadata": {},
   "outputs": [
    {
     "name": "stdout",
     "output_type": "stream",
     "text": [
      "1\n",
      "3\n",
      "5\n",
      "7\n",
      "9\n"
     ]
    }
   ],
   "source": [
    "def odd_numbers_generator(limit):\n",
    "    num=1\n",
    "    while num < limit:\n",
    "        yield num\n",
    "        num+=2\n",
    "for num in odd_numbers_generator(10):\n",
    "    print(num)"
   ]
  },
  {
   "cell_type": "code",
   "execution_count": 41,
   "metadata": {},
   "outputs": [
    {
     "name": "stdout",
     "output_type": "stream",
     "text": [
      "2\n",
      "4\n",
      "6\n",
      "8\n"
     ]
    }
   ],
   "source": [
    "def even_numbers(limit):\n",
    "    num=2\n",
    "    while num < limit:\n",
    "        yield num\n",
    "        num+=2\n",
    "for num in even_numbers(10):\n",
    "    print(num)"
   ]
  }
 ],
 "metadata": {
  "kernelspec": {
   "display_name": "Python 3",
   "language": "python",
   "name": "python3"
  },
  "language_info": {
   "codemirror_mode": {
    "name": "ipython",
    "version": 3
   },
   "file_extension": ".py",
   "mimetype": "text/x-python",
   "name": "python",
   "nbconvert_exporter": "python",
   "pygments_lexer": "ipython3",
   "version": "3.12.4"
  }
 },
 "nbformat": 4,
 "nbformat_minor": 2
}
