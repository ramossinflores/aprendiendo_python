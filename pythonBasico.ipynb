{
 "cells": [
  {
   "cell_type": "markdown",
   "id": "b63da1ce-93f3-4950-836b-84692430fe17",
   "metadata": {
    "jp-MarkdownHeadingCollapsed": true
   },
   "source": [
    "## Datos Escalares"
   ]
  },
  {
   "cell_type": "markdown",
   "id": "695a4be5-d124-4a0e-8abf-6d2a6937d7fd",
   "metadata": {},
   "source": [
    "El tipado de datos en Python es dinámico, es decir, que no le tenemos que indicar el tipo, el lenguaje lo detecta o entiende y lo asigna"
   ]
  },
  {
   "cell_type": "code",
   "execution_count": 1,
   "id": "fff05c81-a8ea-464d-b6ae-34ea3b72a33b",
   "metadata": {},
   "outputs": [],
   "source": [
    "x = 5"
   ]
  },
  {
   "cell_type": "code",
   "execution_count": 2,
   "id": "53acbb6f-d598-4028-932c-b5e1b35eef80",
   "metadata": {},
   "outputs": [
    {
     "data": {
      "text/plain": [
       "int"
      ]
     },
     "execution_count": 2,
     "metadata": {},
     "output_type": "execute_result"
    }
   ],
   "source": [
    "type(x)"
   ]
  },
  {
   "cell_type": "code",
   "execution_count": 3,
   "id": "012be267-3b62-4d63-8fc0-48d12b95608f",
   "metadata": {},
   "outputs": [],
   "source": [
    "y = 5.45"
   ]
  },
  {
   "cell_type": "code",
   "execution_count": 4,
   "id": "4b3bcd7a-598d-4e97-9231-76841076109f",
   "metadata": {},
   "outputs": [
    {
     "data": {
      "text/plain": [
       "float"
      ]
     },
     "execution_count": 4,
     "metadata": {},
     "output_type": "execute_result"
    }
   ],
   "source": [
    "type(y)"
   ]
  },
  {
   "cell_type": "code",
   "execution_count": 5,
   "id": "24c423c8-510a-44ab-a3c8-320145d74f5f",
   "metadata": {},
   "outputs": [
    {
     "data": {
      "text/plain": [
       "10.45"
      ]
     },
     "execution_count": 5,
     "metadata": {},
     "output_type": "execute_result"
    }
   ],
   "source": [
    "x+y"
   ]
  },
  {
   "cell_type": "markdown",
   "id": "8498d30b",
   "metadata": {},
   "source": [
    "Es **importante** resaltar que las palabras reservadas `True` y `False`, deben empezar en mayúsculas para ser usados como valores booleanos."
   ]
  },
  {
   "cell_type": "code",
   "execution_count": 8,
   "id": "72ad4c2d-a001-48a1-8c76-0cfec3ed17dc",
   "metadata": {},
   "outputs": [],
   "source": [
    "es_verdadero = True"
   ]
  },
  {
   "cell_type": "code",
   "execution_count": 9,
   "id": "fb500c99-87c1-4985-a1dc-5c6c5a8f06eb",
   "metadata": {},
   "outputs": [
    {
     "data": {
      "text/plain": [
       "True"
      ]
     },
     "execution_count": 9,
     "metadata": {},
     "output_type": "execute_result"
    }
   ],
   "source": [
    "es_verdadero"
   ]
  },
  {
   "cell_type": "code",
   "execution_count": 10,
   "id": "749eb357-d292-42d2-b804-8a510ea7504a",
   "metadata": {},
   "outputs": [],
   "source": [
    "saludo = \"Holis\""
   ]
  },
  {
   "cell_type": "code",
   "execution_count": 11,
   "id": "873fd682-d636-4055-83e4-0215fcf38ca8",
   "metadata": {},
   "outputs": [
    {
     "data": {
      "text/plain": [
       "str"
      ]
     },
     "execution_count": 11,
     "metadata": {},
     "output_type": "execute_result"
    }
   ],
   "source": [
    "type(saludo)"
   ]
  },
  {
   "cell_type": "code",
   "execution_count": 12,
   "id": "4d264f02-f377-4d79-96fc-f046f44fecb5",
   "metadata": {},
   "outputs": [],
   "source": [
    "z=2+3j"
   ]
  },
  {
   "cell_type": "code",
   "execution_count": 13,
   "id": "8d63b9c2-3046-4da5-9cda-1bfa0074f927",
   "metadata": {},
   "outputs": [
    {
     "data": {
      "text/plain": [
       "complex"
      ]
     },
     "execution_count": 13,
     "metadata": {},
     "output_type": "execute_result"
    }
   ],
   "source": [
    "type(z)"
   ]
  },
  {
   "cell_type": "code",
   "execution_count": 14,
   "id": "ef831833",
   "metadata": {},
   "outputs": [
    {
     "name": "stdout",
     "output_type": "stream",
     "text": [
      "1.5e-06\n"
     ]
    }
   ],
   "source": [
    "x=   1.5E-6\n",
    "print(x)"
   ]
  },
  {
   "cell_type": "code",
   "execution_count": 13,
   "id": "78b423a2",
   "metadata": {},
   "outputs": [
    {
     "name": "stdout",
     "output_type": "stream",
     "text": [
      "1500000.0\n"
     ]
    }
   ],
   "source": [
    "x=   1.5E6\n",
    "print(x)"
   ]
  },
  {
   "cell_type": "markdown",
   "id": "daea8669-4c1b-4cff-b0dc-188d81d79d67",
   "metadata": {},
   "source": [
    "## Operadores aritméticos y de comparación"
   ]
  },
  {
   "cell_type": "markdown",
   "id": "aca2404a-f82d-45d0-9ba3-721eed648b5f",
   "metadata": {
    "jp-MarkdownHeadingCollapsed": true
   },
   "source": [
    "### Operadores aritméticos"
   ]
  },
  {
   "cell_type": "markdown",
   "id": "9657a982-1cbe-46ba-8b06-128bfdfd0d71",
   "metadata": {},
   "source": [
    "Operador suma"
   ]
  },
  {
   "cell_type": "code",
   "execution_count": 1,
   "id": "a058bd58-74ff-4456-a448-71092b59d1e9",
   "metadata": {},
   "outputs": [
    {
     "data": {
      "text/plain": [
       "7"
      ]
     },
     "execution_count": 1,
     "metadata": {},
     "output_type": "execute_result"
    }
   ],
   "source": [
    "3+4"
   ]
  },
  {
   "cell_type": "markdown",
   "id": "bd5ba0e7-41b3-42d3-a35c-103588fc2d20",
   "metadata": {},
   "source": [
    "Operador resta"
   ]
  },
  {
   "cell_type": "code",
   "execution_count": 2,
   "id": "8c9e0a6f-0ea7-428b-b543-eaf523540302",
   "metadata": {},
   "outputs": [
    {
     "data": {
      "text/plain": [
       "46"
      ]
     },
     "execution_count": 2,
     "metadata": {},
     "output_type": "execute_result"
    }
   ],
   "source": [
    "55-9"
   ]
  },
  {
   "cell_type": "markdown",
   "id": "3f78408f-629d-4d0a-b80c-a26e9f84049c",
   "metadata": {},
   "source": [
    "Operador multiplicación"
   ]
  },
  {
   "cell_type": "code",
   "execution_count": 3,
   "id": "b89b856a-d6d0-46b9-8dcc-b997acce090c",
   "metadata": {},
   "outputs": [
    {
     "data": {
      "text/plain": [
       "36"
      ]
     },
     "execution_count": 3,
     "metadata": {},
     "output_type": "execute_result"
    }
   ],
   "source": [
    "6*6"
   ]
  },
  {
   "cell_type": "markdown",
   "id": "2be6934e-ff28-49cf-a545-d6fcdc76b394",
   "metadata": {},
   "source": [
    "Operador división"
   ]
  },
  {
   "cell_type": "code",
   "execution_count": 4,
   "id": "94e135e4-bc88-447d-b8b0-30fe7e22fe7f",
   "metadata": {},
   "outputs": [
    {
     "data": {
      "text/plain": [
       "3.0"
      ]
     },
     "execution_count": 4,
     "metadata": {},
     "output_type": "execute_result"
    }
   ],
   "source": [
    "9/3"
   ]
  },
  {
   "cell_type": "markdown",
   "id": "507b6b2e-d11d-4ceb-b71b-59606989ee9b",
   "metadata": {},
   "source": [
    "Operador módulo"
   ]
  },
  {
   "cell_type": "code",
   "execution_count": 5,
   "id": "d5fe816b-9cc9-4d88-ae61-a499496c3d65",
   "metadata": {},
   "outputs": [
    {
     "data": {
      "text/plain": [
       "1"
      ]
     },
     "execution_count": 5,
     "metadata": {},
     "output_type": "execute_result"
    }
   ],
   "source": [
    "9%4"
   ]
  },
  {
   "cell_type": "markdown",
   "id": "90d8b6e6-acca-4b1d-98ab-dcc65b435ea3",
   "metadata": {},
   "source": [
    "Operador división entera"
   ]
  },
  {
   "cell_type": "code",
   "execution_count": 6,
   "id": "30957bd6-d47e-4c93-b45b-7ee7e5c45372",
   "metadata": {},
   "outputs": [
    {
     "data": {
      "text/plain": [
       "11"
      ]
     },
     "execution_count": 6,
     "metadata": {},
     "output_type": "execute_result"
    }
   ],
   "source": [
    "56//5"
   ]
  },
  {
   "cell_type": "code",
   "execution_count": 7,
   "id": "f542aad1-809e-4f21-9aa8-787f22c69628",
   "metadata": {},
   "outputs": [
    {
     "data": {
      "text/plain": [
       "2"
      ]
     },
     "execution_count": 7,
     "metadata": {},
     "output_type": "execute_result"
    }
   ],
   "source": [
    "9//4"
   ]
  },
  {
   "cell_type": "markdown",
   "id": "8cea3f5e-581f-4d7b-a1e2-fcbbc2191fa1",
   "metadata": {},
   "source": [
    "Operador potencia"
   ]
  },
  {
   "cell_type": "code",
   "execution_count": 11,
   "id": "2c4e3104-5fe2-4db1-8304-d448800e4c11",
   "metadata": {},
   "outputs": [
    {
     "data": {
      "text/plain": [
       "27"
      ]
     },
     "execution_count": 11,
     "metadata": {},
     "output_type": "execute_result"
    }
   ],
   "source": [
    "3**3"
   ]
  },
  {
   "cell_type": "markdown",
   "id": "26e36b99-28b9-4e41-a127-2a407ef3fcbe",
   "metadata": {
    "jp-MarkdownHeadingCollapsed": true
   },
   "source": [
    "### Operadores de comparación"
   ]
  },
  {
   "cell_type": "code",
   "execution_count": 13,
   "id": "5200a761-7ca7-4f48-b793-ff041595efe0",
   "metadata": {},
   "outputs": [
    {
     "data": {
      "text/plain": [
       "True"
      ]
     },
     "execution_count": 13,
     "metadata": {},
     "output_type": "execute_result"
    }
   ],
   "source": [
    "5==5"
   ]
  },
  {
   "cell_type": "code",
   "execution_count": 15,
   "id": "b6906b4a-f02d-4bff-b6c5-2c19fdc8df28",
   "metadata": {},
   "outputs": [
    {
     "data": {
      "text/plain": [
       "False"
      ]
     },
     "execution_count": 15,
     "metadata": {},
     "output_type": "execute_result"
    }
   ],
   "source": [
    "5!=5"
   ]
  },
  {
   "cell_type": "code",
   "execution_count": 16,
   "id": "a740eaf2-b984-4ed5-82ed-44d9d34795d6",
   "metadata": {},
   "outputs": [
    {
     "data": {
      "text/plain": [
       "True"
      ]
     },
     "execution_count": 16,
     "metadata": {},
     "output_type": "execute_result"
    }
   ],
   "source": [
    "6 > 5"
   ]
  },
  {
   "cell_type": "code",
   "execution_count": 17,
   "id": "087d06b8-93d4-4dbf-a614-8e344189a230",
   "metadata": {},
   "outputs": [],
   "source": [
    "x = 7 < 3"
   ]
  },
  {
   "cell_type": "code",
   "execution_count": 18,
   "id": "1023940d-79bb-4cf5-acc5-85f6afc8bbee",
   "metadata": {},
   "outputs": [
    {
     "data": {
      "text/plain": [
       "False"
      ]
     },
     "execution_count": 18,
     "metadata": {},
     "output_type": "execute_result"
    }
   ],
   "source": [
    "x"
   ]
  },
  {
   "cell_type": "markdown",
   "id": "fcc03f75-df45-40dc-8c1a-abb16a949a11",
   "metadata": {},
   "source": [
    "## Condicionales"
   ]
  },
  {
   "cell_type": "markdown",
   "id": "4de52e5c-232e-4522-80f6-852c1ef39dff",
   "metadata": {},
   "source": [
    "### if, elif, else"
   ]
  },
  {
   "cell_type": "markdown",
   "id": "27e8f66b-5307-4276-8cc6-9b3377db402e",
   "metadata": {},
   "source": [
    "Determinar si un número es par"
   ]
  },
  {
   "cell_type": "code",
   "execution_count": 2,
   "id": "78a0c9ba-b3ab-42b7-9455-634dcb4f674a",
   "metadata": {},
   "outputs": [
    {
     "name": "stdout",
     "output_type": "stream",
     "text": [
      "El número es impar\n"
     ]
    }
   ],
   "source": [
    "n=5\n",
    "if n%2 == 0:\n",
    "    print(\"El número es par\")\n",
    "else:\n",
    "    print(\"El número es impar\")"
   ]
  },
  {
   "cell_type": "markdown",
   "id": "3a719598-0d3c-4dea-a655-d46f3aa7c082",
   "metadata": {},
   "source": [
    " Validar el signo de un número "
   ]
  },
  {
   "cell_type": "code",
   "execution_count": 9,
   "id": "407a410f-2fa7-442f-bb53-b43b228876dd",
   "metadata": {},
   "outputs": [
    {
     "name": "stdout",
     "output_type": "stream",
     "text": [
      "El número es cero\n"
     ]
    }
   ],
   "source": [
    "x = 0\n",
    "if x > 0:\n",
    "    print(\"El número es postivo\")\n",
    "elif x == 0:\n",
    "    print(\"El número es cero\")\n",
    "else:\n",
    "    print(\"El número es menor que cero\")"
   ]
  },
  {
   "cell_type": "markdown",
   "id": "ce6c8e65-1877-46af-9ac5-cd8b2fb1ba2e",
   "metadata": {},
   "source": [
    "### match, case"
   ]
  },
  {
   "cell_type": "markdown",
   "id": "55e9aafd-2eaf-441b-bc21-ea6d40f83dca",
   "metadata": {},
   "source": [
    "Ejemplo: Caso de un menú"
   ]
  },
  {
   "cell_type": "code",
   "execution_count": 11,
   "id": "5801acb7-7e28-4653-92a0-fa292b9c6d5c",
   "metadata": {},
   "outputs": [
    {
     "name": "stdout",
     "output_type": "stream",
     "text": [
      "Ninguna opción\n"
     ]
    }
   ],
   "source": [
    "numero=3\n",
    "match numero:\n",
    "    case 1:\n",
    "        print(\"Opcion vegetariana\")\n",
    "    case 2:\n",
    "        print(\"Opcion variada\")\n",
    "    case _:\n",
    "        print(\"Ninguna opción\")"
   ]
  },
  {
   "cell_type": "markdown",
   "id": "e0ac7d8b-6538-4b10-9122-f40c7c79a4c2",
   "metadata": {},
   "source": [
    "Se pueden establecer intervalos en los casos"
   ]
  },
  {
   "cell_type": "markdown",
   "id": "876bbaaa-9661-471f-9ab3-16dd683250f8",
   "metadata": {},
   "source": [
    "Ejemplo: Signo de un número"
   ]
  },
  {
   "cell_type": "code",
   "execution_count": 18,
   "id": "6f893b2e-7ead-499b-9b04-3b2f6bb4523f",
   "metadata": {},
   "outputs": [
    {
     "name": "stdout",
     "output_type": "stream",
     "text": [
      "Positivo\n"
     ]
    }
   ],
   "source": [
    "numero = 6\n",
    "match numero:\n",
    "    case 0:\n",
    "        print (\"Cero\")\n",
    "    case n if n > 0:\n",
    "        print (\"Positivo\")\n",
    "    case n if n < 0:\n",
    "        print (\"Negativo\")\n",
    "    case _:\n",
    "        print(\"No se puede clasificar\")"
   ]
  },
  {
   "cell_type": "markdown",
   "id": "87e0a592-6f6c-4c7b-b8f3-f8c28d5eb13e",
   "metadata": {},
   "source": [
    "Ejemplo: Índice de masa corporal"
   ]
  },
  {
   "cell_type": "code",
   "execution_count": 21,
   "id": "1ce4633a-fc01-4804-b762-5e3dbea5902f",
   "metadata": {},
   "outputs": [
    {
     "name": "stdout",
     "output_type": "stream",
     "text": [
      "Peso normal\n"
     ]
    }
   ],
   "source": [
    "imc = 20\n",
    "match imc:\n",
    "    case valor if 0 < valor <= 18.5:\n",
    "        print(\"Bajo peso\")\n",
    "    case valor if 18.5 <  valor <= 24.9:\n",
    "        print(\"Peso normal\")\n",
    "    case valor if 25 < valor <= 29.9:\n",
    "        print(\"Sobrepeso\")\n",
    "    case valor if 29.9 < valor <= 34.9:\n",
    "        print(\"Obesidad moderada\")\n",
    "    case valor if 34.9 < valor <= 39.9:\n",
    "        print(\"Obesidad severa\")\n",
    "    case valor if 39.9 <= valor:\n",
    "        print(\"Obesidad muy severa\")\n",
    "    case _:\n",
    "        print(\"Valores de IMC no válidos\")"
   ]
  },
  {
   "cell_type": "markdown",
   "id": "c7af5ee4",
   "metadata": {},
   "source": [
    "## Operaciones con strings"
   ]
  },
  {
   "cell_type": "markdown",
   "id": "b544e349",
   "metadata": {},
   "source": [
    "Los strings en Python, se tratan como arreglos, por tanto, se les puede manipular como tal."
   ]
  },
  {
   "cell_type": "code",
   "execution_count": 2,
   "id": "fe7d098c",
   "metadata": {},
   "outputs": [
    {
     "name": "stdout",
     "output_type": "stream",
     "text": [
      "r\n"
     ]
    }
   ],
   "source": [
    "name = \"Laura Ramos\"\n",
    "print(name[3])"
   ]
  },
  {
   "cell_type": "code",
   "execution_count": 4,
   "id": "f318d1ed",
   "metadata": {},
   "outputs": [
    {
     "data": {
      "text/plain": [
       "'ura'"
      ]
     },
     "execution_count": 4,
     "metadata": {},
     "output_type": "execute_result"
    }
   ],
   "source": [
    "name[2:5]"
   ]
  },
  {
   "cell_type": "code",
   "execution_count": 6,
   "id": "feeff3fb",
   "metadata": {},
   "outputs": [
    {
     "data": {
      "text/plain": [
       "'s'"
      ]
     },
     "execution_count": 6,
     "metadata": {},
     "output_type": "execute_result"
    }
   ],
   "source": [
    "name[-1]"
   ]
  },
  {
   "cell_type": "code",
   "execution_count": 7,
   "id": "68cf4c12",
   "metadata": {},
   "outputs": [
    {
     "data": {
      "text/plain": [
       "'amos'"
      ]
     },
     "execution_count": 7,
     "metadata": {},
     "output_type": "execute_result"
    }
   ],
   "source": [
    "name[-4:]"
   ]
  },
  {
   "cell_type": "code",
   "execution_count": 8,
   "id": "00f868a1",
   "metadata": {},
   "outputs": [
    {
     "data": {
      "text/plain": [
       "'Laur'"
      ]
     },
     "execution_count": 8,
     "metadata": {},
     "output_type": "execute_result"
    }
   ],
   "source": [
    "name[:4]"
   ]
  },
  {
   "cell_type": "markdown",
   "id": "5be7e13a",
   "metadata": {},
   "source": [
    "### len()\n",
    "Número de caracteres en una cadena"
   ]
  },
  {
   "cell_type": "code",
   "execution_count": 3,
   "id": "d618bf79",
   "metadata": {},
   "outputs": [
    {
     "data": {
      "text/plain": [
       "11"
      ]
     },
     "execution_count": 3,
     "metadata": {},
     "output_type": "execute_result"
    }
   ],
   "source": [
    "len(name)"
   ]
  },
  {
   "cell_type": "markdown",
   "id": "808078b5",
   "metadata": {},
   "source": [
    "### upper() y lower"
   ]
  },
  {
   "cell_type": "markdown",
   "id": "e0689629",
   "metadata": {},
   "source": [
    "Convertir en mayúsculas y minúsculas"
   ]
  },
  {
   "cell_type": "code",
   "execution_count": 10,
   "id": "4919c58c",
   "metadata": {},
   "outputs": [
    {
     "data": {
      "text/plain": [
       "'holaaaaaaaaaaaaaaaaaaaaaaaaaaa'"
      ]
     },
     "execution_count": 10,
     "metadata": {},
     "output_type": "execute_result"
    }
   ],
   "source": [
    "name.upper()\n",
    "\"HOLAAAAAAAAAAAAAAAAAAAAAAAAAAA\".lower()"
   ]
  },
  {
   "cell_type": "markdown",
   "id": "cb63d452",
   "metadata": {},
   "source": [
    "### capitalize"
   ]
  },
  {
   "cell_type": "code",
   "execution_count": 11,
   "id": "e0d9a3bf",
   "metadata": {},
   "outputs": [
    {
     "data": {
      "text/plain": [
       "'Holiwwis'"
      ]
     },
     "execution_count": 11,
     "metadata": {},
     "output_type": "execute_result"
    }
   ],
   "source": [
    "\"holiwwis\".capitalize()"
   ]
  },
  {
   "cell_type": "markdown",
   "id": "59d66a2d",
   "metadata": {},
   "source": []
  }
 ],
 "metadata": {
  "kernelspec": {
   "display_name": "Python 3 (ipykernel)",
   "language": "python",
   "name": "python3"
  },
  "language_info": {
   "codemirror_mode": {
    "name": "ipython",
    "version": 3
   },
   "file_extension": ".py",
   "mimetype": "text/x-python",
   "name": "python",
   "nbconvert_exporter": "python",
   "pygments_lexer": "ipython3",
   "version": "3.12.4"
  }
 },
 "nbformat": 4,
 "nbformat_minor": 5
}
